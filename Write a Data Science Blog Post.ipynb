{
 "cells": [
  {
   "cell_type": "markdown",
   "metadata": {},
   "source": [
    "# India vs Rest of the world- A comparision"
   ]
  },
  {
   "cell_type": "markdown",
   "metadata": {},
   "source": [
    "### Introduction\n",
    "\n",
    "We are going to look at the following question in this notebook\n",
    "\n",
    "* How India stack up against Rest of the world in Salaries\n",
    "* Comparison of Career and Job Satisfaction for Indian vs Rest of the world\n",
    "* Does Indian programmer feel they are underpaid than rest of the world"
   ]
  },
  {
   "cell_type": "code",
   "execution_count": 105,
   "metadata": {},
   "outputs": [],
   "source": [
    "import numpy as np\n",
    "import pandas as pd\n",
    "import math\n",
    "import matplotlib.pyplot as plt\n",
    "%matplotlib inline"
   ]
  },
  {
   "cell_type": "markdown",
   "metadata": {},
   "source": [
    "### Data Understanding\n",
    "Let us first look at the data and following viewpoints\n",
    "\n",
    "1. Top Nationality of the programmers\n",
    "2. Top kind of developers\n",
    "3. Formal Education\n",
    "\n",
    "and few others"
   ]
  },
  {
   "cell_type": "code",
   "execution_count": 106,
   "metadata": {},
   "outputs": [
    {
     "data": {
      "text/html": [
       "<div>\n",
       "<style scoped>\n",
       "    .dataframe tbody tr th:only-of-type {\n",
       "        vertical-align: middle;\n",
       "    }\n",
       "\n",
       "    .dataframe tbody tr th {\n",
       "        vertical-align: top;\n",
       "    }\n",
       "\n",
       "    .dataframe thead th {\n",
       "        text-align: right;\n",
       "    }\n",
       "</style>\n",
       "<table border=\"1\" class=\"dataframe\">\n",
       "  <thead>\n",
       "    <tr style=\"text-align: right;\">\n",
       "      <th></th>\n",
       "      <th>Respondent</th>\n",
       "      <th>Professional</th>\n",
       "      <th>ProgramHobby</th>\n",
       "      <th>Country</th>\n",
       "      <th>University</th>\n",
       "      <th>EmploymentStatus</th>\n",
       "      <th>FormalEducation</th>\n",
       "      <th>MajorUndergrad</th>\n",
       "      <th>HomeRemote</th>\n",
       "      <th>CompanySize</th>\n",
       "      <th>...</th>\n",
       "      <th>StackOverflowMakeMoney</th>\n",
       "      <th>Gender</th>\n",
       "      <th>HighestEducationParents</th>\n",
       "      <th>Race</th>\n",
       "      <th>SurveyLong</th>\n",
       "      <th>QuestionsInteresting</th>\n",
       "      <th>QuestionsConfusing</th>\n",
       "      <th>InterestedAnswers</th>\n",
       "      <th>Salary</th>\n",
       "      <th>ExpectedSalary</th>\n",
       "    </tr>\n",
       "  </thead>\n",
       "  <tbody>\n",
       "    <tr>\n",
       "      <th>0</th>\n",
       "      <td>1</td>\n",
       "      <td>Student</td>\n",
       "      <td>Yes, both</td>\n",
       "      <td>United States</td>\n",
       "      <td>No</td>\n",
       "      <td>Not employed, and not looking for work</td>\n",
       "      <td>Secondary school</td>\n",
       "      <td>NaN</td>\n",
       "      <td>NaN</td>\n",
       "      <td>NaN</td>\n",
       "      <td>...</td>\n",
       "      <td>Strongly disagree</td>\n",
       "      <td>Male</td>\n",
       "      <td>High school</td>\n",
       "      <td>White or of European descent</td>\n",
       "      <td>Strongly disagree</td>\n",
       "      <td>Strongly agree</td>\n",
       "      <td>Disagree</td>\n",
       "      <td>Strongly agree</td>\n",
       "      <td>NaN</td>\n",
       "      <td>NaN</td>\n",
       "    </tr>\n",
       "    <tr>\n",
       "      <th>1</th>\n",
       "      <td>2</td>\n",
       "      <td>Student</td>\n",
       "      <td>Yes, both</td>\n",
       "      <td>United Kingdom</td>\n",
       "      <td>Yes, full-time</td>\n",
       "      <td>Employed part-time</td>\n",
       "      <td>Some college/university study without earning ...</td>\n",
       "      <td>Computer science or software engineering</td>\n",
       "      <td>More than half, but not all, the time</td>\n",
       "      <td>20 to 99 employees</td>\n",
       "      <td>...</td>\n",
       "      <td>Strongly disagree</td>\n",
       "      <td>Male</td>\n",
       "      <td>A master's degree</td>\n",
       "      <td>White or of European descent</td>\n",
       "      <td>Somewhat agree</td>\n",
       "      <td>Somewhat agree</td>\n",
       "      <td>Disagree</td>\n",
       "      <td>Strongly agree</td>\n",
       "      <td>NaN</td>\n",
       "      <td>37500.0</td>\n",
       "    </tr>\n",
       "    <tr>\n",
       "      <th>2</th>\n",
       "      <td>3</td>\n",
       "      <td>Professional developer</td>\n",
       "      <td>Yes, both</td>\n",
       "      <td>United Kingdom</td>\n",
       "      <td>No</td>\n",
       "      <td>Employed full-time</td>\n",
       "      <td>Bachelor's degree</td>\n",
       "      <td>Computer science or software engineering</td>\n",
       "      <td>Less than half the time, but at least one day ...</td>\n",
       "      <td>10,000 or more employees</td>\n",
       "      <td>...</td>\n",
       "      <td>Disagree</td>\n",
       "      <td>Male</td>\n",
       "      <td>A professional degree</td>\n",
       "      <td>White or of European descent</td>\n",
       "      <td>Somewhat agree</td>\n",
       "      <td>Agree</td>\n",
       "      <td>Disagree</td>\n",
       "      <td>Agree</td>\n",
       "      <td>113750.0</td>\n",
       "      <td>NaN</td>\n",
       "    </tr>\n",
       "  </tbody>\n",
       "</table>\n",
       "<p>3 rows × 154 columns</p>\n",
       "</div>"
      ],
      "text/plain": [
       "   Respondent            Professional ProgramHobby         Country  \\\n",
       "0           1                 Student    Yes, both   United States   \n",
       "1           2                 Student    Yes, both  United Kingdom   \n",
       "2           3  Professional developer    Yes, both  United Kingdom   \n",
       "\n",
       "       University                        EmploymentStatus  \\\n",
       "0              No  Not employed, and not looking for work   \n",
       "1  Yes, full-time                      Employed part-time   \n",
       "2              No                      Employed full-time   \n",
       "\n",
       "                                     FormalEducation  \\\n",
       "0                                   Secondary school   \n",
       "1  Some college/university study without earning ...   \n",
       "2                                  Bachelor's degree   \n",
       "\n",
       "                             MajorUndergrad  \\\n",
       "0                                       NaN   \n",
       "1  Computer science or software engineering   \n",
       "2  Computer science or software engineering   \n",
       "\n",
       "                                          HomeRemote  \\\n",
       "0                                                NaN   \n",
       "1              More than half, but not all, the time   \n",
       "2  Less than half the time, but at least one day ...   \n",
       "\n",
       "                CompanySize       ...       StackOverflowMakeMoney Gender  \\\n",
       "0                       NaN       ...            Strongly disagree   Male   \n",
       "1        20 to 99 employees       ...            Strongly disagree   Male   \n",
       "2  10,000 or more employees       ...                     Disagree   Male   \n",
       "\n",
       "  HighestEducationParents                          Race         SurveyLong  \\\n",
       "0             High school  White or of European descent  Strongly disagree   \n",
       "1       A master's degree  White or of European descent     Somewhat agree   \n",
       "2   A professional degree  White or of European descent     Somewhat agree   \n",
       "\n",
       "  QuestionsInteresting QuestionsConfusing InterestedAnswers    Salary  \\\n",
       "0       Strongly agree           Disagree    Strongly agree       NaN   \n",
       "1       Somewhat agree           Disagree    Strongly agree       NaN   \n",
       "2                Agree           Disagree             Agree  113750.0   \n",
       "\n",
       "   ExpectedSalary  \n",
       "0             NaN  \n",
       "1         37500.0  \n",
       "2             NaN  \n",
       "\n",
       "[3 rows x 154 columns]"
      ]
     },
     "execution_count": 106,
     "metadata": {},
     "output_type": "execute_result"
    }
   ],
   "source": [
    "#Read the data\n",
    "df = pd.read_csv('survey_results_public.csv')\n",
    "df.head(3)"
   ]
  },
  {
   "cell_type": "code",
   "execution_count": 107,
   "metadata": {},
   "outputs": [
    {
     "data": {
      "text/plain": [
       "Index(['Respondent', 'Professional', 'ProgramHobby', 'Country', 'University',\n",
       "       'EmploymentStatus', 'FormalEducation', 'MajorUndergrad', 'HomeRemote',\n",
       "       'CompanySize',\n",
       "       ...\n",
       "       'StackOverflowMakeMoney', 'Gender', 'HighestEducationParents', 'Race',\n",
       "       'SurveyLong', 'QuestionsInteresting', 'QuestionsConfusing',\n",
       "       'InterestedAnswers', 'Salary', 'ExpectedSalary'],\n",
       "      dtype='object', length=154)"
      ]
     },
     "execution_count": 107,
     "metadata": {},
     "output_type": "execute_result"
    }
   ],
   "source": [
    "df.columns"
   ]
  },
  {
   "cell_type": "code",
   "execution_count": 108,
   "metadata": {},
   "outputs": [],
   "source": [
    "# Bar plot functions\n",
    "def display_top_n_bar_chart(df, column, title,n=3):\n",
    "    '''\n",
    "    \n",
    "    Displays a bar chart with a title\n",
    "    \n",
    "    Parameters:\n",
    "    df: a dataframe\n",
    "    column: the column which we want to show\n",
    "    title: the title of the chart\n",
    "    n: top n in descending order\n",
    "    \n",
    "    Returns:\n",
    "    None\n",
    "    \n",
    "    '''\n",
    "    status = df[column].value_counts()\n",
    "    (status[:n]).plot(kind=\"bar\");\n",
    "    plt.title(title+\" (Top \"+str(n)+\")\");"
   ]
  },
  {
   "cell_type": "markdown",
   "metadata": {},
   "source": [
    "#### Top Nationality of the programmers"
   ]
  },
  {
   "cell_type": "code",
   "execution_count": 109,
   "metadata": {},
   "outputs": [
    {
     "data": {
      "image/png": "[encoded data removed]",
      "text/plain": [
       "<matplotlib.figure.Figure at 0x7fcfe5c956a0>"
      ]
     },
     "metadata": {
      "needs_background": "light"
     },
     "output_type": "display_data"
    }
   ],
   "source": [
    "display_top_n_bar_chart(df, \"Country\", \"Country\", 5)"
   ]
  },
  {
   "cell_type": "markdown",
   "metadata": {},
   "source": [
    "#### Top kind of developers"
   ]
  },
  {
   "cell_type": "code",
   "execution_count": 110,
   "metadata": {},
   "outputs": [
    {
     "data": {
      "image/png": "[encoded data removed]",
      "text/plain": [
       "<matplotlib.figure.Figure at 0x7fcfe6005f60>"
      ]
     },
     "metadata": {
      "needs_background": "light"
     },
     "output_type": "display_data"
    }
   ],
   "source": [
    "display_top_n_bar_chart(df, \"Professional\", \"Different kind of profession\",5)"
   ]
  },
  {
   "cell_type": "markdown",
   "metadata": {},
   "source": [
    "#### Salary Ranges"
   ]
  },
  {
   "cell_type": "code",
   "execution_count": 111,
   "metadata": {},
   "outputs": [
    {
     "data": {
      "image/png": "[encoded data removed]",
      "text/plain": [
       "<matplotlib.figure.Figure at 0x7fcfe6a8ae10>"
      ]
     },
     "metadata": {
      "needs_background": "light"
     },
     "output_type": "display_data"
    }
   ],
   "source": [
    "#Provide a pandas series of the counts for each Overpaid status\n",
    "display_top_n_bar_chart(df, \"FormalEducation\", \"Education Status\",5)"
   ]
  },
  {
   "cell_type": "markdown",
   "metadata": {},
   "source": [
    "### Data Aggregation\n",
    "\n",
    "We are now going to separate the data based on the country, We are going to separate India and rest of the world. The following code will help us to do that\n"
   ]
  },
  {
   "cell_type": "code",
   "execution_count": 112,
   "metadata": {},
   "outputs": [],
   "source": [
    "def separate_country(df):\n",
    "    '''\n",
    "    Return a dataframe that filters out the data for India and rest of the world\n",
    "    Parameters:\n",
    "    df: a raw data dataframe\n",
    "    Returns:\n",
    "    df: a dataframe with a new column Rest_or_India\n",
    "    \n",
    "    '''\n",
    "    '''\n",
    "    rest = ['United States', 'Liechtenstein', 'Switzerland', \n",
    "           'Iceland', 'Norway', 'Israel', 'Denmark', \n",
    "           'Ireland', 'Canada', 'United Kingdom', 'Germany', \n",
    "           'Netherlands', 'Sweden', 'Luxembourg', 'Austria', \n",
    "           'Finland', 'France', 'Belgium', 'Spain', 'Italy',\n",
    "           'Poland','Thailand', 'Singapore', 'Hong Kong', \n",
    "           'South Korea', 'Japan', 'China', \n",
    "           'Taiwan', 'Malaysia', \n",
    "           'Indonesia', 'Vietnam']\n",
    "    '''\n",
    "    India = ['India']\n",
    "    \n",
    "    #Add a new catagory seperating to western and eastern\n",
    "    #df['Rest_or_India'] = df['Country'].apply(lambda x: 'rest' if x in rest else ('India' if x in India else 'rest'))\n",
    "    df['Rest_or_India'] = df['Country'].apply(lambda x: 'India' if x in India else 'rest')\n",
    "    \n",
    "    return df"
   ]
  },
  {
   "cell_type": "markdown",
   "metadata": {},
   "source": [
    "Next we are going to filter the dataset with the below columns.\n",
    "- Country: Country they are living\n",
    "- YearsCodedJob: Years they are coding\n",
    "- EmploymentStatus: Their employment status\n",
    "- Salary: Salary of the people\n",
    "- JobSatisfaction & CareerSatisfaction: Are their satisfy their job and career\n",
    "- Overpaid: How they think about their salary\n",
    "\n",
    "Let us focus only on professional developers to keep it narrow"
   ]
  },
  {
   "cell_type": "code",
   "execution_count": 113,
   "metadata": {},
   "outputs": [],
   "source": [
    "def filter_data(df):\n",
    "    '''\n",
    "    The fucntion will help us to filter the data with the columns we need for analysis\n",
    "    Parameters:\n",
    "    df: a raw data dataframe\n",
    "    Returns:\n",
    "    useful_df: a filtered dataframe with only columns we need for analysis\n",
    "    \n",
    "    '''\n",
    "    useful_columns = ['Country', 'YearsCodedJob', 'EmploymentStatus', 'CareerSatisfaction', 'JobSatisfaction', 'JobSeekingStatus', 'HoursPerWeek', 'Salary', 'Rest_or_India', 'Overpaid']\n",
    "    useful_df = pd.DataFrame(df.query(\"Professional == 'Professional developer' and (Gender == 'Male' or Gender == 'Female') and EmploymentStatus == 'Employed full-time'\"))[useful_columns]\n",
    "    return useful_df"
   ]
  },
  {
   "cell_type": "code",
   "execution_count": 114,
   "metadata": {},
   "outputs": [
    {
     "data": {
      "text/html": [
       "<div>\n",
       "<style scoped>\n",
       "    .dataframe tbody tr th:only-of-type {\n",
       "        vertical-align: middle;\n",
       "    }\n",
       "\n",
       "    .dataframe tbody tr th {\n",
       "        vertical-align: top;\n",
       "    }\n",
       "\n",
       "    .dataframe thead th {\n",
       "        text-align: right;\n",
       "    }\n",
       "</style>\n",
       "<table border=\"1\" class=\"dataframe\">\n",
       "  <thead>\n",
       "    <tr style=\"text-align: right;\">\n",
       "      <th></th>\n",
       "      <th>Country</th>\n",
       "      <th>YearsCodedJob</th>\n",
       "      <th>EmploymentStatus</th>\n",
       "      <th>CareerSatisfaction</th>\n",
       "      <th>JobSatisfaction</th>\n",
       "      <th>JobSeekingStatus</th>\n",
       "      <th>HoursPerWeek</th>\n",
       "      <th>Salary</th>\n",
       "      <th>Rest_or_India</th>\n",
       "      <th>Overpaid</th>\n",
       "    </tr>\n",
       "  </thead>\n",
       "  <tbody>\n",
       "    <tr>\n",
       "      <th>2</th>\n",
       "      <td>United Kingdom</td>\n",
       "      <td>20 or more years</td>\n",
       "      <td>Employed full-time</td>\n",
       "      <td>8.0</td>\n",
       "      <td>9.0</td>\n",
       "      <td>NaN</td>\n",
       "      <td>NaN</td>\n",
       "      <td>113750.0</td>\n",
       "      <td>rest</td>\n",
       "      <td>Neither underpaid nor overpaid</td>\n",
       "    </tr>\n",
       "    <tr>\n",
       "      <th>7</th>\n",
       "      <td>Poland</td>\n",
       "      <td>7 to 8 years</td>\n",
       "      <td>Employed full-time</td>\n",
       "      <td>7.0</td>\n",
       "      <td>7.0</td>\n",
       "      <td>I'm not actively looking, but I am open to new...</td>\n",
       "      <td>1.0</td>\n",
       "      <td>NaN</td>\n",
       "      <td>rest</td>\n",
       "      <td>NaN</td>\n",
       "    </tr>\n",
       "    <tr>\n",
       "      <th>8</th>\n",
       "      <td>Colombia</td>\n",
       "      <td>7 to 8 years</td>\n",
       "      <td>Employed full-time</td>\n",
       "      <td>6.0</td>\n",
       "      <td>6.0</td>\n",
       "      <td>I am not interested in new job opportunities</td>\n",
       "      <td>2.0</td>\n",
       "      <td>NaN</td>\n",
       "      <td>rest</td>\n",
       "      <td>Neither underpaid nor overpaid</td>\n",
       "    </tr>\n",
       "    <tr>\n",
       "      <th>13</th>\n",
       "      <td>Germany</td>\n",
       "      <td>15 to 16 years</td>\n",
       "      <td>Employed full-time</td>\n",
       "      <td>8.0</td>\n",
       "      <td>6.0</td>\n",
       "      <td>I am actively looking for a job</td>\n",
       "      <td>3.0</td>\n",
       "      <td>NaN</td>\n",
       "      <td>rest</td>\n",
       "      <td>NaN</td>\n",
       "    </tr>\n",
       "    <tr>\n",
       "      <th>14</th>\n",
       "      <td>United Kingdom</td>\n",
       "      <td>20 or more years</td>\n",
       "      <td>Employed full-time</td>\n",
       "      <td>8.0</td>\n",
       "      <td>8.0</td>\n",
       "      <td>NaN</td>\n",
       "      <td>NaN</td>\n",
       "      <td>100000.0</td>\n",
       "      <td>rest</td>\n",
       "      <td>Somewhat underpaid</td>\n",
       "    </tr>\n",
       "  </tbody>\n",
       "</table>\n",
       "</div>"
      ],
      "text/plain": [
       "           Country     YearsCodedJob    EmploymentStatus  CareerSatisfaction  \\\n",
       "2   United Kingdom  20 or more years  Employed full-time                 8.0   \n",
       "7           Poland      7 to 8 years  Employed full-time                 7.0   \n",
       "8         Colombia      7 to 8 years  Employed full-time                 6.0   \n",
       "13         Germany    15 to 16 years  Employed full-time                 8.0   \n",
       "14  United Kingdom  20 or more years  Employed full-time                 8.0   \n",
       "\n",
       "    JobSatisfaction                                   JobSeekingStatus  \\\n",
       "2               9.0                                                NaN   \n",
       "7               7.0  I'm not actively looking, but I am open to new...   \n",
       "8               6.0       I am not interested in new job opportunities   \n",
       "13              6.0                    I am actively looking for a job   \n",
       "14              8.0                                                NaN   \n",
       "\n",
       "    HoursPerWeek    Salary Rest_or_India                        Overpaid  \n",
       "2            NaN  113750.0          rest  Neither underpaid nor overpaid  \n",
       "7            1.0       NaN          rest                             NaN  \n",
       "8            2.0       NaN          rest  Neither underpaid nor overpaid  \n",
       "13           3.0       NaN          rest                             NaN  \n",
       "14           NaN  100000.0          rest              Somewhat underpaid  "
      ]
     },
     "execution_count": 114,
     "metadata": {},
     "output_type": "execute_result"
    }
   ],
   "source": [
    "#Get some useful columns for analysis\n",
    "df = separate_country(df)\n",
    "df_updated = filter_data(df)\n",
    "df_updated.head()"
   ]
  },
  {
   "cell_type": "markdown",
   "metadata": {},
   "source": [
    "Let us now convert the categorical overpaid columnt to numeric so that we can compare the means scores"
   ]
  },
  {
   "cell_type": "code",
   "execution_count": 115,
   "metadata": {},
   "outputs": [],
   "source": [
    "def map_overpaid(df):\n",
    "    \"\"\"\n",
    "    \n",
    "    For each level assign a number\n",
    "    \n",
    "    Parameters:\n",
    "    df: a dataframe that will be converted\n",
    "    \n",
    "    Returns:\n",
    "    dataframe: dataframe with numeric values\n",
    "    \n",
    "    \"\"\"\n",
    "    overpaid_map = {\n",
    "        'Greatly underpaid' : 1,\n",
    "        'Somewhat underpaid' : 2,\n",
    "        'Neither underpaid nor overpaid' : 3,\n",
    "        'Somewhat overpaid' : 4,\n",
    "        'Greatly overpaid' : 5,\n",
    "        np.nan: np.nan\n",
    "    }\n",
    "    df['Overpaid'] = df['Overpaid'].apply(lambda x: np.nan if x == np.nan else overpaid_map[x] )\n",
    "    \n",
    "    return df"
   ]
  },
  {
   "cell_type": "code",
   "execution_count": 116,
   "metadata": {},
   "outputs": [
    {
     "data": {
      "text/html": [
       "<div>\n",
       "<style scoped>\n",
       "    .dataframe tbody tr th:only-of-type {\n",
       "        vertical-align: middle;\n",
       "    }\n",
       "\n",
       "    .dataframe tbody tr th {\n",
       "        vertical-align: top;\n",
       "    }\n",
       "\n",
       "    .dataframe thead th {\n",
       "        text-align: right;\n",
       "    }\n",
       "</style>\n",
       "<table border=\"1\" class=\"dataframe\">\n",
       "  <thead>\n",
       "    <tr style=\"text-align: right;\">\n",
       "      <th></th>\n",
       "      <th></th>\n",
       "      <th>CareerSatisfaction</th>\n",
       "      <th>JobSatisfaction</th>\n",
       "      <th>HoursPerWeek</th>\n",
       "      <th>Salary</th>\n",
       "      <th>Overpaid</th>\n",
       "    </tr>\n",
       "    <tr>\n",
       "      <th>Rest_or_India</th>\n",
       "      <th>YearsCodedJob</th>\n",
       "      <th></th>\n",
       "      <th></th>\n",
       "      <th></th>\n",
       "      <th></th>\n",
       "      <th></th>\n",
       "    </tr>\n",
       "  </thead>\n",
       "  <tbody>\n",
       "    <tr>\n",
       "      <th rowspan=\"20\" valign=\"top\">India</th>\n",
       "      <th>1 to 2 years</th>\n",
       "      <td>6.582656</td>\n",
       "      <td>5.848238</td>\n",
       "      <td>5.925581</td>\n",
       "      <td>5738.765281</td>\n",
       "      <td>2.040816</td>\n",
       "    </tr>\n",
       "    <tr>\n",
       "      <th>10 to 11 years</th>\n",
       "      <td>7.520000</td>\n",
       "      <td>6.280000</td>\n",
       "      <td>2.833333</td>\n",
       "      <td>22069.079430</td>\n",
       "      <td>2.250000</td>\n",
       "    </tr>\n",
       "    <tr>\n",
       "      <th>11 to 12 years</th>\n",
       "      <td>7.166667</td>\n",
       "      <td>6.222222</td>\n",
       "      <td>5.125000</td>\n",
       "      <td>26798.928204</td>\n",
       "      <td>2.166667</td>\n",
       "    </tr>\n",
       "    <tr>\n",
       "      <th>12 to 13 years</th>\n",
       "      <td>7.333333</td>\n",
       "      <td>5.833333</td>\n",
       "      <td>4.222222</td>\n",
       "      <td>36558.508295</td>\n",
       "      <td>2.400000</td>\n",
       "    </tr>\n",
       "    <tr>\n",
       "      <th>13 to 14 years</th>\n",
       "      <td>7.333333</td>\n",
       "      <td>7.666667</td>\n",
       "      <td>40.000000</td>\n",
       "      <td>35952.870357</td>\n",
       "      <td>2.000000</td>\n",
       "    </tr>\n",
       "    <tr>\n",
       "      <th>14 to 15 years</th>\n",
       "      <td>7.000000</td>\n",
       "      <td>5.500000</td>\n",
       "      <td>5.000000</td>\n",
       "      <td>24225.517545</td>\n",
       "      <td>2.000000</td>\n",
       "    </tr>\n",
       "    <tr>\n",
       "      <th>15 to 16 years</th>\n",
       "      <td>7.600000</td>\n",
       "      <td>6.800000</td>\n",
       "      <td>3.333333</td>\n",
       "      <td>37072.382910</td>\n",
       "      <td>2.000000</td>\n",
       "    </tr>\n",
       "    <tr>\n",
       "      <th>16 to 17 years</th>\n",
       "      <td>7.000000</td>\n",
       "      <td>7.000000</td>\n",
       "      <td>2.000000</td>\n",
       "      <td>16933.291734</td>\n",
       "      <td>2.500000</td>\n",
       "    </tr>\n",
       "    <tr>\n",
       "      <th>18 to 19 years</th>\n",
       "      <td>8.000000</td>\n",
       "      <td>7.666667</td>\n",
       "      <td>2.000000</td>\n",
       "      <td>13213.918661</td>\n",
       "      <td>1.500000</td>\n",
       "    </tr>\n",
       "    <tr>\n",
       "      <th>19 to 20 years</th>\n",
       "      <td>7.400000</td>\n",
       "      <td>7.400000</td>\n",
       "      <td>0.000000</td>\n",
       "      <td>16150.345030</td>\n",
       "      <td>1.000000</td>\n",
       "    </tr>\n",
       "    <tr>\n",
       "      <th>2 to 3 years</th>\n",
       "      <td>6.971154</td>\n",
       "      <td>6.205128</td>\n",
       "      <td>7.044944</td>\n",
       "      <td>7144.540567</td>\n",
       "      <td>2.051852</td>\n",
       "    </tr>\n",
       "    <tr>\n",
       "      <th>20 or more years</th>\n",
       "      <td>7.500000</td>\n",
       "      <td>4.500000</td>\n",
       "      <td>0.000000</td>\n",
       "      <td>3171.340479</td>\n",
       "      <td>3.000000</td>\n",
       "    </tr>\n",
       "    <tr>\n",
       "      <th>3 to 4 years</th>\n",
       "      <td>6.828829</td>\n",
       "      <td>6.009009</td>\n",
       "      <td>6.567164</td>\n",
       "      <td>10086.324308</td>\n",
       "      <td>2.126437</td>\n",
       "    </tr>\n",
       "    <tr>\n",
       "      <th>4 to 5 years</th>\n",
       "      <td>6.968553</td>\n",
       "      <td>6.449367</td>\n",
       "      <td>7.418605</td>\n",
       "      <td>11678.366546</td>\n",
       "      <td>2.166667</td>\n",
       "    </tr>\n",
       "    <tr>\n",
       "      <th>5 to 6 years</th>\n",
       "      <td>7.112782</td>\n",
       "      <td>6.383459</td>\n",
       "      <td>4.828571</td>\n",
       "      <td>11482.578384</td>\n",
       "      <td>2.166667</td>\n",
       "    </tr>\n",
       "    <tr>\n",
       "      <th>6 to 7 years</th>\n",
       "      <td>7.111111</td>\n",
       "      <td>6.750000</td>\n",
       "      <td>5.711111</td>\n",
       "      <td>12542.032846</td>\n",
       "      <td>2.214286</td>\n",
       "    </tr>\n",
       "    <tr>\n",
       "      <th>7 to 8 years</th>\n",
       "      <td>7.078431</td>\n",
       "      <td>6.686275</td>\n",
       "      <td>4.035714</td>\n",
       "      <td>27796.312950</td>\n",
       "      <td>2.500000</td>\n",
       "    </tr>\n",
       "    <tr>\n",
       "      <th>8 to 9 years</th>\n",
       "      <td>7.045455</td>\n",
       "      <td>6.318182</td>\n",
       "      <td>3.000000</td>\n",
       "      <td>17798.505786</td>\n",
       "      <td>2.200000</td>\n",
       "    </tr>\n",
       "    <tr>\n",
       "      <th>9 to 10 years</th>\n",
       "      <td>6.800000</td>\n",
       "      <td>6.733333</td>\n",
       "      <td>2.375000</td>\n",
       "      <td>21876.376450</td>\n",
       "      <td>2.000000</td>\n",
       "    </tr>\n",
       "    <tr>\n",
       "      <th>Less than a year</th>\n",
       "      <td>6.611111</td>\n",
       "      <td>6.033333</td>\n",
       "      <td>5.711340</td>\n",
       "      <td>7201.297612</td>\n",
       "      <td>2.442623</td>\n",
       "    </tr>\n",
       "    <tr>\n",
       "      <th rowspan=\"21\" valign=\"top\">rest</th>\n",
       "      <th>1 to 2 years</th>\n",
       "      <td>7.543067</td>\n",
       "      <td>7.028436</td>\n",
       "      <td>2.826577</td>\n",
       "      <td>40770.898324</td>\n",
       "      <td>2.358771</td>\n",
       "    </tr>\n",
       "    <tr>\n",
       "      <th>10 to 11 years</th>\n",
       "      <td>7.538877</td>\n",
       "      <td>7.069264</td>\n",
       "      <td>2.021792</td>\n",
       "      <td>69099.107852</td>\n",
       "      <td>2.496109</td>\n",
       "    </tr>\n",
       "    <tr>\n",
       "      <th>11 to 12 years</th>\n",
       "      <td>7.597510</td>\n",
       "      <td>7.131250</td>\n",
       "      <td>1.764444</td>\n",
       "      <td>73289.508456</td>\n",
       "      <td>2.453441</td>\n",
       "    </tr>\n",
       "    <tr>\n",
       "      <th>12 to 13 years</th>\n",
       "      <td>7.565820</td>\n",
       "      <td>7.025404</td>\n",
       "      <td>1.885057</td>\n",
       "      <td>84633.901156</td>\n",
       "      <td>2.568889</td>\n",
       "    </tr>\n",
       "    <tr>\n",
       "      <th>13 to 14 years</th>\n",
       "      <td>7.462733</td>\n",
       "      <td>7.065217</td>\n",
       "      <td>2.154412</td>\n",
       "      <td>77320.456668</td>\n",
       "      <td>2.587302</td>\n",
       "    </tr>\n",
       "    <tr>\n",
       "      <th>14 to 15 years</th>\n",
       "      <td>7.471429</td>\n",
       "      <td>7.054893</td>\n",
       "      <td>2.104712</td>\n",
       "      <td>84557.402074</td>\n",
       "      <td>2.516279</td>\n",
       "    </tr>\n",
       "    <tr>\n",
       "      <th>15 to 16 years</th>\n",
       "      <td>7.471459</td>\n",
       "      <td>7.093023</td>\n",
       "      <td>2.109290</td>\n",
       "      <td>80357.238129</td>\n",
       "      <td>2.504065</td>\n",
       "    </tr>\n",
       "    <tr>\n",
       "      <th>16 to 17 years</th>\n",
       "      <td>7.632184</td>\n",
       "      <td>7.243678</td>\n",
       "      <td>2.431818</td>\n",
       "      <td>77557.592236</td>\n",
       "      <td>2.495726</td>\n",
       "    </tr>\n",
       "    <tr>\n",
       "      <th>17 to 18 years</th>\n",
       "      <td>7.672414</td>\n",
       "      <td>7.304598</td>\n",
       "      <td>1.471014</td>\n",
       "      <td>88522.883671</td>\n",
       "      <td>2.629834</td>\n",
       "    </tr>\n",
       "    <tr>\n",
       "      <th>18 to 19 years</th>\n",
       "      <td>7.508621</td>\n",
       "      <td>7.125000</td>\n",
       "      <td>2.008850</td>\n",
       "      <td>87984.671311</td>\n",
       "      <td>2.540323</td>\n",
       "    </tr>\n",
       "    <tr>\n",
       "      <th>19 to 20 years</th>\n",
       "      <td>7.500000</td>\n",
       "      <td>6.903361</td>\n",
       "      <td>2.382353</td>\n",
       "      <td>87672.939022</td>\n",
       "      <td>2.581197</td>\n",
       "    </tr>\n",
       "    <tr>\n",
       "      <th>2 to 3 years</th>\n",
       "      <td>7.500000</td>\n",
       "      <td>7.000000</td>\n",
       "      <td>2.788183</td>\n",
       "      <td>44273.463971</td>\n",
       "      <td>2.305556</td>\n",
       "    </tr>\n",
       "    <tr>\n",
       "      <th>20 or more years</th>\n",
       "      <td>7.838868</td>\n",
       "      <td>7.330665</td>\n",
       "      <td>2.410526</td>\n",
       "      <td>98895.559810</td>\n",
       "      <td>2.499374</td>\n",
       "    </tr>\n",
       "    <tr>\n",
       "      <th>3 to 4 years</th>\n",
       "      <td>7.454690</td>\n",
       "      <td>6.923567</td>\n",
       "      <td>2.871795</td>\n",
       "      <td>48509.974112</td>\n",
       "      <td>2.327392</td>\n",
       "    </tr>\n",
       "    <tr>\n",
       "      <th>4 to 5 years</th>\n",
       "      <td>7.524650</td>\n",
       "      <td>6.976843</td>\n",
       "      <td>2.145975</td>\n",
       "      <td>53991.131995</td>\n",
       "      <td>2.357294</td>\n",
       "    </tr>\n",
       "    <tr>\n",
       "      <th>5 to 6 years</th>\n",
       "      <td>7.440811</td>\n",
       "      <td>6.998690</td>\n",
       "      <td>2.843338</td>\n",
       "      <td>56756.634524</td>\n",
       "      <td>2.394737</td>\n",
       "    </tr>\n",
       "    <tr>\n",
       "      <th>6 to 7 years</th>\n",
       "      <td>7.494208</td>\n",
       "      <td>7.025072</td>\n",
       "      <td>2.690171</td>\n",
       "      <td>60545.465523</td>\n",
       "      <td>2.443674</td>\n",
       "    </tr>\n",
       "    <tr>\n",
       "      <th>7 to 8 years</th>\n",
       "      <td>7.538298</td>\n",
       "      <td>7.164004</td>\n",
       "      <td>2.337408</td>\n",
       "      <td>60635.514500</td>\n",
       "      <td>2.446125</td>\n",
       "    </tr>\n",
       "    <tr>\n",
       "      <th>8 to 9 years</th>\n",
       "      <td>7.557312</td>\n",
       "      <td>6.996047</td>\n",
       "      <td>2.201835</td>\n",
       "      <td>67659.422440</td>\n",
       "      <td>2.428910</td>\n",
       "    </tr>\n",
       "    <tr>\n",
       "      <th>9 to 10 years</th>\n",
       "      <td>7.482587</td>\n",
       "      <td>6.998010</td>\n",
       "      <td>2.662844</td>\n",
       "      <td>64841.058205</td>\n",
       "      <td>2.447735</td>\n",
       "    </tr>\n",
       "    <tr>\n",
       "      <th>Less than a year</th>\n",
       "      <td>7.610491</td>\n",
       "      <td>7.411173</td>\n",
       "      <td>2.307453</td>\n",
       "      <td>39420.591663</td>\n",
       "      <td>2.461690</td>\n",
       "    </tr>\n",
       "  </tbody>\n",
       "</table>\n",
       "</div>"
      ],
      "text/plain": [
       "                                CareerSatisfaction  JobSatisfaction  \\\n",
       "Rest_or_India YearsCodedJob                                           \n",
       "India         1 to 2 years                6.582656         5.848238   \n",
       "              10 to 11 years              7.520000         6.280000   \n",
       "              11 to 12 years              7.166667         6.222222   \n",
       "              12 to 13 years              7.333333         5.833333   \n",
       "              13 to 14 years              7.333333         7.666667   \n",
       "              14 to 15 years              7.000000         5.500000   \n",
       "              15 to 16 years              7.600000         6.800000   \n",
       "              16 to 17 years              7.000000         7.000000   \n",
       "              18 to 19 years              8.000000         7.666667   \n",
       "              19 to 20 years              7.400000         7.400000   \n",
       "              2 to 3 years                6.971154         6.205128   \n",
       "              20 or more years            7.500000         4.500000   \n",
       "              3 to 4 years                6.828829         6.009009   \n",
       "              4 to 5 years                6.968553         6.449367   \n",
       "              5 to 6 years                7.112782         6.383459   \n",
       "              6 to 7 years                7.111111         6.750000   \n",
       "              7 to 8 years                7.078431         6.686275   \n",
       "              8 to 9 years                7.045455         6.318182   \n",
       "              9 to 10 years               6.800000         6.733333   \n",
       "              Less than a year            6.611111         6.033333   \n",
       "rest          1 to 2 years                7.543067         7.028436   \n",
       "              10 to 11 years              7.538877         7.069264   \n",
       "              11 to 12 years              7.597510         7.131250   \n",
       "              12 to 13 years              7.565820         7.025404   \n",
       "              13 to 14 years              7.462733         7.065217   \n",
       "              14 to 15 years              7.471429         7.054893   \n",
       "              15 to 16 years              7.471459         7.093023   \n",
       "              16 to 17 years              7.632184         7.243678   \n",
       "              17 to 18 years              7.672414         7.304598   \n",
       "              18 to 19 years              7.508621         7.125000   \n",
       "              19 to 20 years              7.500000         6.903361   \n",
       "              2 to 3 years                7.500000         7.000000   \n",
       "              20 or more years            7.838868         7.330665   \n",
       "              3 to 4 years                7.454690         6.923567   \n",
       "              4 to 5 years                7.524650         6.976843   \n",
       "              5 to 6 years                7.440811         6.998690   \n",
       "              6 to 7 years                7.494208         7.025072   \n",
       "              7 to 8 years                7.538298         7.164004   \n",
       "              8 to 9 years                7.557312         6.996047   \n",
       "              9 to 10 years               7.482587         6.998010   \n",
       "              Less than a year            7.610491         7.411173   \n",
       "\n",
       "                                HoursPerWeek        Salary  Overpaid  \n",
       "Rest_or_India YearsCodedJob                                           \n",
       "India         1 to 2 years          5.925581   5738.765281  2.040816  \n",
       "              10 to 11 years        2.833333  22069.079430  2.250000  \n",
       "              11 to 12 years        5.125000  26798.928204  2.166667  \n",
       "              12 to 13 years        4.222222  36558.508295  2.400000  \n",
       "              13 to 14 years       40.000000  35952.870357  2.000000  \n",
       "              14 to 15 years        5.000000  24225.517545  2.000000  \n",
       "              15 to 16 years        3.333333  37072.382910  2.000000  \n",
       "              16 to 17 years        2.000000  16933.291734  2.500000  \n",
       "              18 to 19 years        2.000000  13213.918661  1.500000  \n",
       "              19 to 20 years        0.000000  16150.345030  1.000000  \n",
       "              2 to 3 years          7.044944   7144.540567  2.051852  \n",
       "              20 or more years      0.000000   3171.340479  3.000000  \n",
       "              3 to 4 years          6.567164  10086.324308  2.126437  \n",
       "              4 to 5 years          7.418605  11678.366546  2.166667  \n",
       "              5 to 6 years          4.828571  11482.578384  2.166667  \n",
       "              6 to 7 years          5.711111  12542.032846  2.214286  \n",
       "              7 to 8 years          4.035714  27796.312950  2.500000  \n",
       "              8 to 9 years          3.000000  17798.505786  2.200000  \n",
       "              9 to 10 years         2.375000  21876.376450  2.000000  \n",
       "              Less than a year      5.711340   7201.297612  2.442623  \n",
       "rest          1 to 2 years          2.826577  40770.898324  2.358771  \n",
       "              10 to 11 years        2.021792  69099.107852  2.496109  \n",
       "              11 to 12 years        1.764444  73289.508456  2.453441  \n",
       "              12 to 13 years        1.885057  84633.901156  2.568889  \n",
       "              13 to 14 years        2.154412  77320.456668  2.587302  \n",
       "              14 to 15 years        2.104712  84557.402074  2.516279  \n",
       "              15 to 16 years        2.109290  80357.238129  2.504065  \n",
       "              16 to 17 years        2.431818  77557.592236  2.495726  \n",
       "              17 to 18 years        1.471014  88522.883671  2.629834  \n",
       "              18 to 19 years        2.008850  87984.671311  2.540323  \n",
       "              19 to 20 years        2.382353  87672.939022  2.581197  \n",
       "              2 to 3 years          2.788183  44273.463971  2.305556  \n",
       "              20 or more years      2.410526  98895.559810  2.499374  \n",
       "              3 to 4 years          2.871795  48509.974112  2.327392  \n",
       "              4 to 5 years          2.145975  53991.131995  2.357294  \n",
       "              5 to 6 years          2.843338  56756.634524  2.394737  \n",
       "              6 to 7 years          2.690171  60545.465523  2.443674  \n",
       "              7 to 8 years          2.337408  60635.514500  2.446125  \n",
       "              8 to 9 years          2.201835  67659.422440  2.428910  \n",
       "              9 to 10 years         2.662844  64841.058205  2.447735  \n",
       "              Less than a year      2.307453  39420.591663  2.461690  "
      ]
     },
     "execution_count": 116,
     "metadata": {},
     "output_type": "execute_result"
    }
   ],
   "source": [
    "df_updated = map_overpaid(df_updated)\n",
    "df_updated = df_updated.groupby(['Rest_or_India','YearsCodedJob']).mean()\n",
    "df_updated"
   ]
  },
  {
   "cell_type": "markdown",
   "metadata": {},
   "source": [
    "Now if we look at the number of years of experience, we see ranges like \n",
    "1. Less than a year\n",
    "2. 9 to 10 years\n",
    "3. 10 to 11 years\n",
    "\n",
    "We will now map to a Integer number, for eg less than a year will become 0, 10 to 11 years will become 10 and so on and so forth. The following function will perform the opertion\n",
    "\n"
   ]
  },
  {
   "cell_type": "code",
   "execution_count": 117,
   "metadata": {},
   "outputs": [],
   "source": [
    "def map_yearsofexperience(df):\n",
    "    \"\"\"\n",
    "    Maps the experience to a discrete number\n",
    "    Parameters:\n",
    "    df: filtered datatframe\n",
    "    \n",
    "    Returns:\n",
    "    dataframe: a dataframe with years of experience mapped to a Integer\n",
    "    \n",
    "    \"\"\"\n",
    "    experience_map = {'1 to 2 years' : 1, \n",
    "                '10 to 11 years' : 10, \n",
    "                '11 to 12 years' : 11, \n",
    "                '12 to 13 years' : 12,\n",
    "                '13 to 14 years' : 13, \n",
    "                '14 to 15 years' : 14, \n",
    "                '15 to 16 years' : 15, \n",
    "                '16 to 17 years' : 16,\n",
    "                '17 to 18 years' : 17, \n",
    "                '18 to 19 years' : 18, \n",
    "                '19 to 20 years' : 19, \n",
    "                '2 to 3 years' : 2,\n",
    "                '20 or more years' : 20, \n",
    "                '3 to 4 years' : 3, \n",
    "                '4 to 5 years' : 4, \n",
    "                '5 to 6 years' : 5, \n",
    "                '6 to 7 years' : 6, \n",
    "                '7 to 8 years' : 7, \n",
    "                '8 to 9 years' : 8, \n",
    "                '9 to 10 years' : 9, \n",
    "                'Less than a year' : 0}\n",
    "    \n",
    "    df_exp = df.reset_index()\n",
    "    df_exp['YearsCodedJob'] = df_exp['YearsCodedJob'].apply(lambda x: experience_map[x])\n",
    "    df_exp['YearsCodedJob'] = pd.to_numeric(df_exp['YearsCodedJob'])\n",
    "    \n",
    "    return df_exp"
   ]
  },
  {
   "cell_type": "code",
   "execution_count": 118,
   "metadata": {},
   "outputs": [],
   "source": [
    "df_updated = map_yearsofexperience(df_updated)\n",
    "df_updated = df_updated.sort_values(by='YearsCodedJob')\n",
    "df_updated.set_index('YearsCodedJob', inplace=True) # reset the index"
   ]
  },
  {
   "cell_type": "markdown",
   "metadata": {},
   "source": [
    "### Insights\n",
    "Lets us now try and answer the question we raise in the beginning of the notebook"
   ]
  },
  {
   "cell_type": "markdown",
   "metadata": {},
   "source": [
    "#### Insight 1: Here we can see a programmer’s salary in India is much lower than that in the rest of the world"
   ]
  },
  {
   "cell_type": "code",
   "execution_count": 119,
   "metadata": {},
   "outputs": [
    {
     "data": {
      "text/plain": [
       "Text(0,0.5,'Mean Salary')"
      ]
     },
     "execution_count": 119,
     "metadata": {},
     "output_type": "execute_result"
    },
    {
     "data": {
      "image/png": "[encoded data removed]",
      "text/plain": [
       "<matplotlib.figure.Figure at 0x7fcfe5c2b400>"
      ]
     },
     "metadata": {
      "needs_background": "light"
     },
     "output_type": "display_data"
    }
   ],
   "source": [
    "df_updated.groupby('Rest_or_India')['Salary'].plot(legend=True)\n",
    "plt.title(\"How India stack up against Rest of the world in Salaries\");\n",
    "plt.xlabel('Experience (in years)')\n",
    "plt.ylabel('Mean Salary')"
   ]
  },
  {
   "cell_type": "markdown",
   "metadata": {},
   "source": [
    "#### Insight 2: Rest of the world programmers are more satisfied with their career and jobs than their Indian counterparts"
   ]
  },
  {
   "cell_type": "code",
   "execution_count": 120,
   "metadata": {},
   "outputs": [
    {
     "data": {
      "text/plain": [
       "Rest_or_India\n",
       "India    7.148171\n",
       "rest     7.543144\n",
       "Name: CareerSatisfaction, dtype: float64"
      ]
     },
     "execution_count": 120,
     "metadata": {},
     "output_type": "execute_result"
    }
   ],
   "source": [
    "df_updated.groupby('Rest_or_India').mean().CareerSatisfaction"
   ]
  },
  {
   "cell_type": "code",
   "execution_count": 121,
   "metadata": {},
   "outputs": [
    {
     "data": {
      "text/plain": [
       "Rest_or_India\n",
       "India    6.414261\n",
       "rest     7.088962\n",
       "Name: JobSatisfaction, dtype: float64"
      ]
     },
     "execution_count": 121,
     "metadata": {},
     "output_type": "execute_result"
    }
   ],
   "source": [
    "df_updated.groupby('Rest_or_India').mean().JobSatisfaction"
   ]
  },
  {
   "cell_type": "markdown",
   "metadata": {},
   "source": [
    "Here, we can see that rest of the world programmers (green ball) have a much higher satisfaction on their job and career, positioned at the right-high-up corner. The ball size indicator their average salary, the green  ball size is much larger than the red ball (Indian programmers salary)."
   ]
  },
  {
   "cell_type": "code",
   "execution_count": 122,
   "metadata": {},
   "outputs": [
    {
     "data": {
      "text/plain": [
       "Text(0,0.5,'Job Satisfaction')"
      ]
     },
     "execution_count": 122,
     "metadata": {},
     "output_type": "execute_result"
    },
    {
     "data": {
      "image/png": "[encoded data removed]",
      "text/plain": [
       "<matplotlib.figure.Figure at 0x7fcfe5bf36a0>"
      ]
     },
     "metadata": {
      "needs_background": "light"
     },
     "output_type": "display_data"
    }
   ],
   "source": [
    "#Plot Comparison of Career and Job Satisfaction between Western and Eastern\n",
    "plt.scatter(df_updated.groupby('Rest_or_India').mean().CareerSatisfaction, df_updated.groupby('Rest_or_India').mean().JobSatisfaction, df_updated.groupby('Rest_or_India').mean().Salary/50, c=['red','green'])\n",
    "\n",
    "plt.title('Comparison of Career and Job Satisfaction\\n (Red: India; Green: Rest of the world)')\n",
    "plt.xlabel('Career Satisfaction')\n",
    "plt.ylabel('Job Satisfaction')"
   ]
  },
  {
   "cell_type": "markdown",
   "metadata": {},
   "source": [
    "#### Insight 3: Indian programmers feel that they are underpaid than the rest of the world programmers"
   ]
  },
  {
   "cell_type": "markdown",
   "metadata": {},
   "source": [
    "Here, we can see that Indian programmers definitely feel they are underpaid compared ot the rest of the world"
   ]
  },
  {
   "cell_type": "code",
   "execution_count": 124,
   "metadata": {},
   "outputs": [
    {
     "data": {
      "text/plain": [
       "Text(0,0.5,'Overpaid')"
      ]
     },
     "execution_count": 124,
     "metadata": {},
     "output_type": "execute_result"
    },
    {
     "data": {
      "image/png": "[encoded data removed]",
      "text/plain": [
       "<matplotlib.figure.Figure at 0x7fcfe5c223c8>"
      ]
     },
     "metadata": {
      "needs_background": "light"
     },
     "output_type": "display_data"
    }
   ],
   "source": [
    "df_updated.groupby('Rest_or_India')['Overpaid'].plot(legend=True)\n",
    "plt.title(\"Do you Indians they are underpaid\");\n",
    "plt.xlabel('Experience')\n",
    "plt.ylabel('Overpaid')"
   ]
  },
  {
   "cell_type": "markdown",
   "metadata": {},
   "source": [
    "### Conclusion\n",
    "- Indian programmer are paid much lower than that of the rest of the world.\n",
    "- Indian programmers always think that they are underpaid than the rest of the world programmers \n",
    "- Rest of the world are more satisfied with their career than Indian Programmer"
   ]
  },
  {
   "cell_type": "code",
   "execution_count": null,
   "metadata": {},
   "outputs": [],
   "source": []
  }
 ],
 "metadata": {
  "kernelspec": {
   "display_name": "Python 3",
   "language": "python",
   "name": "python3"
  },
  "language_info": {
   "codemirror_mode": {
    "name": "ipython",
    "version": 3
   },
   "file_extension": ".py",
   "mimetype": "text/x-python",
   "name": "python",
   "nbconvert_exporter": "python",
   "pygments_lexer": "ipython3",
   "version": "3.6.3"
  }
 },
 "nbformat": 4,
 "nbformat_minor": 2
}
